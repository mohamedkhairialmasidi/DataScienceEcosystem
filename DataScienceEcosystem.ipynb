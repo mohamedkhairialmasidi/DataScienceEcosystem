{
 "cells": [
  {
   "cell_type": "markdown",
   "id": "e2232b42-7d2a-4b2f-a79f-b09e44875cf8",
   "metadata": {},
   "source": [
    "# Data Science Tools and Ecosystem"
   ]
  },
  {
   "cell_type": "markdown",
   "id": "1d8e035f-e406-4ae0-a6cb-127e7f08d84a",
   "metadata": {},
   "source": [
    "## In this notebook, Data Science Tools and Ecosystem are summarized"
   ]
  },
  {
   "cell_type": "markdown",
   "id": "f89e9652-5e0c-47e3-a30e-6f8efd5fd52b",
   "metadata": {},
   "source": [
    "**Objectives:**\n",
    "\n",
    "* List popular languages for Data Science.\n",
    "* Introduce common libraries used in Data Science.\n",
    "* Explore basic arithmetic expressions in Python.\n",
    "* Create and manipulate variables in Python."
   ]
  },
  {
   "cell_type": "markdown",
   "id": "a035002a-64ad-4819-91f8-dff0fa35e570",
   "metadata": {},
   "source": [
    "## Some of the popular languages that Data Scientists use are:\n",
    "#### 1: Python\n",
    "#### 2: R\n",
    "#### 3: SQL"
   ]
  },
  {
   "cell_type": "markdown",
   "id": "ce606534-27fb-493d-a835-fff75f6f778e",
   "metadata": {},
   "source": [
    "## Some of the commonly used libraries used by Data Scientists include:\n",
    "#### 1: Numpy\n",
    "#### 2: Pandas\n",
    "#### 3: Seaborn"
   ]
  },
  {
   "cell_type": "markdown",
   "id": "5d543e3f-7f15-4eef-b5ff-9ab5aa5585bf",
   "metadata": {},
   "source": [
    "| Data Science Tools |\n",
    "|:------------------|\n",
    "| Jupyter Notebook   |\n",
    "| RStudio           |\n",
    "| Spyder            |"
   ]
  },
  {
   "cell_type": "markdown",
   "id": "349c7199-45a2-4a5a-aaa2-39a61418c9e4",
   "metadata": {},
   "source": [
    "### Below are a few examples of evaluating arithmetic expressions in Python"
   ]
  },
  {
   "cell_type": "code",
   "execution_count": 3,
   "id": "6c27c779-8785-4a3f-9694-9c3b599ceb40",
   "metadata": {},
   "outputs": [
    {
     "data": {
      "text/plain": [
       "17"
      ]
     },
     "execution_count": 3,
     "metadata": {},
     "output_type": "execute_result"
    }
   ],
   "source": [
    "#This a simple arithmetic expression to mutiply then add integers\n",
    "(3*4)+5"
   ]
  },
  {
   "cell_type": "code",
   "execution_count": 4,
   "id": "0e008bc3-c4cf-47d1-a77f-84e91258467d",
   "metadata": {},
   "outputs": [
    {
     "data": {
      "text/plain": [
       "3.3333333333333335"
      ]
     },
     "execution_count": 4,
     "metadata": {},
     "output_type": "execute_result"
    }
   ],
   "source": [
    "# This will convert 200 minutes to hours by diving by 60\n",
    "200 / 60"
   ]
  },
  {
   "cell_type": "markdown",
   "id": "f66e88ce-ed26-4749-8ded-fbdc56312a0b",
   "metadata": {},
   "source": [
    "## Author\n",
    "\n",
    "Mohamed Khairi Al Masidi"
   ]
  },
  {
   "cell_type": "code",
   "execution_count": null,
   "id": "95f05f69-60b9-4e1d-8183-614379d0bff3",
   "metadata": {},
   "outputs": [],
   "source": []
  }
 ],
 "metadata": {
  "kernelspec": {
   "display_name": "Python 3 (ipykernel)",
   "language": "python",
   "name": "python3"
  },
  "language_info": {
   "codemirror_mode": {
    "name": "ipython",
    "version": 3
   },
   "file_extension": ".py",
   "mimetype": "text/x-python",
   "name": "python",
   "nbconvert_exporter": "python",
   "pygments_lexer": "ipython3",
   "version": "3.11.7"
  }
 },
 "nbformat": 4,
 "nbformat_minor": 5
}
